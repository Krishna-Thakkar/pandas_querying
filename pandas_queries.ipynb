{
 "cells": [
  {
   "cell_type": "code",
   "execution_count": null,
   "metadata": {},
   "outputs": [],
   "source": [
    "import pandas as pd\n",
    "import json"
   ]
  },
  {
   "cell_type": "code",
   "execution_count": null,
   "metadata": {},
   "outputs": [],
   "source": [
    "df = pd.read_csv('./team_info.csv')"
   ]
  },
  {
   "cell_type": "code",
   "execution_count": null,
   "metadata": {},
   "outputs": [],
   "source": [
    "df.head()"
   ]
  },
  {
   "cell_type": "code",
   "execution_count": null,
   "metadata": {},
   "outputs": [],
   "source": [
    "query_json = \"\"\"{\n",
    "  \"skill_name\": [\"php\", \"design\"],\n",
    "  \"department_name\": \"web\",\n",
    "  \"designation_name\": \"engineer\",\n",
    "  \"occupancy_status\": \"fully free\"\n",
    "}\"\"\""
   ]
  },
  {
   "cell_type": "code",
   "execution_count": null,
   "metadata": {},
   "outputs": [],
   "source": [
    "def get_specific_context(query_json):\n",
    "    json_object = json.loads(query_json)\n",
    "    query = \"\"\n",
    "    count = 0\n",
    "    for key, value in json_object.items():\n",
    "        if type(value) == list:\n",
    "            for val in value:\n",
    "                if val != 'na':\n",
    "                    if count == 0:\n",
    "                        query += \"(\"\n",
    "                    count += 1\n",
    "                    if count == 1:\n",
    "                        query += (f\"{key}.str.lower().str.contains('{val}'.lower())\")\n",
    "                    elif count > 1 and count < len(value):\n",
    "                        query += ' or ' + (f\"{key}.str.lower().str.contains('{val}'.lower())\")\n",
    "                    elif count == len(value):\n",
    "                        print(count)\n",
    "                        query += ' or ' + (f\"{key}.str.lower().str.contains('{val}'.lower())\") + \")\"\n",
    "                    else:\n",
    "                        query += (f\"{key}.str.lower().str.contains('{val}'.lower())\")\n",
    "            count = 0\n",
    "            if query:\n",
    "                query += ' and '\n",
    "        else:\n",
    "            if value != 'na':\n",
    "                count += 1\n",
    "                if count > 1:\n",
    "                    query += ' and ' + (f\"{key}.str.lower().str.contains('{value}'.lower())\")\n",
    "                else:\n",
    "                    query += (f\"{key}.str.lower().str.contains('{value}'.lower())\")\n",
    "    query = query.rstrip(' and ')\n",
    "    return query\n",
    "    # return df.query(query).to_dict(orient='records')"
   ]
  },
  {
   "cell_type": "code",
   "execution_count": null,
   "metadata": {},
   "outputs": [],
   "source": [
    "def get_all_context(query_json):\n",
    "    json_object = json.loads(query_json)\n",
    "    query = \"\"\n",
    "    count = 0\n",
    "    for key, value in json_object.items():\n",
    "        if type(value) == list:\n",
    "            for val in value:\n",
    "                if val != 'na':\n",
    "                    count += 1\n",
    "                    if count > 1:\n",
    "                        query += ' or ' + (f\"{key}.str.lower().str.contains('{val}'.lower())\")\n",
    "                    else:\n",
    "                        query += (f\"{key}.str.lower().str.contains('{val}'.lower())\")\n",
    "            count = 0\n",
    "            if query:\n",
    "                query += ' or '\n",
    "        else:\n",
    "            if value != 'na':\n",
    "                count += 1\n",
    "                if count > 1:\n",
    "                    query += ' or ' + (f\"{key}.str.lower().str.contains('{value}'.lower())\")\n",
    "                else:\n",
    "                    query += (f\"{key}.str.lower().str.contains('{value}'.lower())\")\n",
    "    query = query.rstrip(' or ')\n",
    "    return query\n",
    "    # return df.query(query).to_dict(orient='records')"
   ]
  },
  {
   "cell_type": "code",
   "execution_count": null,
   "metadata": {},
   "outputs": [],
   "source": [
    "res = df.query(get_specific_context(query_json))\n",
    "if len(res) >= 1:\n",
    "    print(res)\n",
    "else:\n",
    "    res = df.query(get_all_context(query_json))\n",
    "    print(res)"
   ]
  },
  {
   "cell_type": "code",
   "execution_count": null,
   "metadata": {},
   "outputs": [],
   "source": [
    "df.query(\"(skill_name.str.lower().str.contains('design'.lower()) or skill_name.str.lower().str.contains('python'.lower())) and department_name.str.lower().str.contains('Web'.lower()) and occupancy_status.str.lower().str.contains('Fully Free'.lower())\")"
   ]
  },
  {
   "cell_type": "code",
   "execution_count": null,
   "metadata": {},
   "outputs": [],
   "source": [
    "df.query(\"skill_name.str.lower().str.contains('design|php', regex=True) and department_name.str.lower().str.contains('Web'.lower()) and occupancy_status.str.lower().str.contains('Fully Free'.lower())\")"
   ]
  },
  {
   "cell_type": "code",
   "execution_count": null,
   "metadata": {},
   "outputs": [],
   "source": [
    "json_object = json.loads(query_json)\n",
    "query = \"\"\n",
    "count = 0\n",
    "for key, value in json_object.items():\n",
    "    if type(value) == list:\n",
    "        val = '|'.join(v for v in value if v!='na')\n",
    "        query += (f\"{key}.str.lower().str.contains('{val}'.lower(), regex=True)\")\n",
    "        if query:\n",
    "            query += ' and '\n",
    "    else:\n",
    "        if value != 'na':\n",
    "            count += 1\n",
    "            if count > 1:\n",
    "                query += ' and ' + (f\"{key}.str.lower().str.contains('{value}'.lower())\")\n",
    "            else:\n",
    "                query += (f\"{key}.str.lower().str.contains('{value}'.lower())\")\n",
    "print(query)"
   ]
  },
  {
   "cell_type": "code",
   "execution_count": null,
   "metadata": {},
   "outputs": [],
   "source": [
    "df.query(query)"
   ]
  },
  {
   "cell_type": "code",
   "execution_count": null,
   "metadata": {},
   "outputs": [],
   "source": []
  }
 ],
 "metadata": {
  "kernelspec": {
   "display_name": "assessment_evaluator_venv",
   "language": "python",
   "name": "python3"
  },
  "language_info": {
   "codemirror_mode": {
    "name": "ipython",
    "version": 3
   },
   "file_extension": ".py",
   "mimetype": "text/x-python",
   "name": "python",
   "nbconvert_exporter": "python",
   "pygments_lexer": "ipython3",
   "version": "3.10.13"
  }
 },
 "nbformat": 4,
 "nbformat_minor": 2
}
