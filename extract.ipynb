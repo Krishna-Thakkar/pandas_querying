{
 "cells": [
  {
   "cell_type": "code",
   "execution_count": null,
   "metadata": {},
   "outputs": [],
   "source": [
    "import pandas as pd\n",
    "import json"
   ]
  },
  {
   "cell_type": "code",
   "execution_count": null,
   "metadata": {},
   "outputs": [],
   "source": [
    "df = pd.read_csv('./employee_profile.csv')"
   ]
  },
  {
   "cell_type": "code",
   "execution_count": null,
   "metadata": {},
   "outputs": [],
   "source": [
    "df.head()"
   ]
  },
  {
   "cell_type": "code",
   "execution_count": null,
   "metadata": {},
   "outputs": [],
   "source": [
    "key_value = \"\"\"{\n",
    "\"employee_name\": \"Ujjawal Roy\",\n",
    "\"employee_code\": \"MI-516\"\n",
    "}\n",
    "\"\"\""
   ]
  },
  {
   "cell_type": "code",
   "execution_count": null,
   "metadata": {},
   "outputs": [],
   "source": [
    "json_object = json.loads(key_value)\n",
    "json_object"
   ]
  },
  {
   "cell_type": "code",
   "execution_count": null,
   "metadata": {},
   "outputs": [],
   "source": [
    "data = df.loc[df['employee_name'] == json_object['employee_name']]"
   ]
  },
  {
   "cell_type": "code",
   "execution_count": null,
   "metadata": {},
   "outputs": [],
   "source": [
    "result = data.to_dict(orient='records')[0]\n",
    "result"
   ]
  },
  {
   "cell_type": "code",
   "execution_count": null,
   "metadata": {},
   "outputs": [],
   "source": [
    "key_value = \"\"\"{\n",
    "\"employee_name\": \"na\",\n",
    "\"employee_code\": \"MI-516\"\n",
    "}\n",
    "\"\"\"\n",
    "json_object = json.loads(key_value)\n",
    "json_object"
   ]
  },
  {
   "cell_type": "code",
   "execution_count": null,
   "metadata": {},
   "outputs": [],
   "source": [
    "def get_context_dict1(key_value):\n",
    "    json_object = json.loads(key_value)\n",
    "    query = \"\"\n",
    "    count = 0\n",
    "    for key, value in json_object.items():\n",
    "        if value != 'na':\n",
    "            count += 1\n",
    "            if count > 1:\n",
    "                query += ' or ' + (f\"{key}.str.contains('{value}')\")\n",
    "            else:\n",
    "                query += (f\"{key}.str.contains('{value}')\")\n",
    "    print(query)\n",
    "    return df.query(query).to_dict(orient='records')[0]\n",
    "get_context_dict1(key_value)"
   ]
  },
  {
   "cell_type": "code",
   "execution_count": null,
   "metadata": {},
   "outputs": [],
   "source": [
    "df.query(\"employee_name.str.contains('Ujjawal Roy') or employee_name.str.contains('Vatsal Gamit')\")"
   ]
  },
  {
   "cell_type": "code",
   "execution_count": null,
   "metadata": {},
   "outputs": [],
   "source": [
    "key_value2 = \"\"\"\n",
    "{\n",
    "\"employee_name\": \"ujjawal\",\n",
    "\"employee_code\": \"na\",\n",
    "\"department_name\": \"Web\"\n",
    "}\"\"\""
   ]
  },
  {
   "cell_type": "code",
   "execution_count": null,
   "metadata": {},
   "outputs": [],
   "source": [
    "json_object2 = json.loads(key_value2)\n",
    "json_object2"
   ]
  },
  {
   "cell_type": "code",
   "execution_count": null,
   "metadata": {},
   "outputs": [],
   "source": [
    "query = \"\"\n",
    "count = 0\n",
    "for key, value in json_object2.items():\n",
    "    if type(value) == list:\n",
    "        for val in value:\n",
    "            if val != 'na':\n",
    "                count += 1\n",
    "                if count > 1:\n",
    "                    query += ' or ' + (f\"{key}.str.contains('{val}')\")\n",
    "                else:\n",
    "                    query += (f\"{key}.str.contains('{val}')\")\n",
    "                # query += 'or' + (f\"{key}.str.contains('{value}')\")\n",
    "        count = 0\n",
    "        if query:\n",
    "            query += ' or '\n",
    "    else:\n",
    "        if value != 'na':\n",
    "            count += 1\n",
    "            if count > 1:\n",
    "                query += ' or ' + (f\"{key}.str.contains('{value}')\")\n",
    "            else:\n",
    "                query += (f\"{key}.str.contains('{value}')\")\n",
    "query = query.rstrip(' or ')\n",
    "print(query)"
   ]
  },
  {
   "cell_type": "code",
   "execution_count": null,
   "metadata": {},
   "outputs": [],
   "source": [
    "df.query(query)"
   ]
  },
  {
   "cell_type": "code",
   "execution_count": null,
   "metadata": {},
   "outputs": [],
   "source": [
    "key_value2 = \"\"\"\n",
    "{\n",
    "\"employee_name\": [\"Ujjwal roy\"],\n",
    "\"employee_code\": \"na\"\n",
    "}\"\"\""
   ]
  },
  {
   "cell_type": "code",
   "execution_count": null,
   "metadata": {},
   "outputs": [],
   "source": [
    "def get_context_dict(query_json):\n",
    "    json_object = json.loads(query_json)\n",
    "    query = \"\"\n",
    "    count = 0\n",
    "    for key, value in json_object.items():\n",
    "        if type(value) == list:\n",
    "            for val in value:\n",
    "                if val != 'na':\n",
    "                    count += 1\n",
    "                    if count > 1:\n",
    "                        query += ' or ' + (f\"{key}.str.lower().str.contains('{val}'.lower())\")\n",
    "                    else:\n",
    "                        query += (f\"{key}.str.lower().str.contains('{val}'.lower())\")\n",
    "            count = 0\n",
    "            if query:\n",
    "                query += ' or '\n",
    "        else:\n",
    "            if value != 'na':\n",
    "                count += 1\n",
    "                if count > 1:\n",
    "                    query += ' or ' + (f\"{key}.str.lower().str.contains('{value}'.lower())\")\n",
    "                else:\n",
    "                    query += (f\"{key}.str.lower().str.contains('{value}'.lower())\")\n",
    "    query = query.rstrip(' or ')\n",
    "    return df.query(query)\n",
    "    # return df.query(query).to_dict(orient='records')"
   ]
  },
  {
   "cell_type": "code",
   "execution_count": null,
   "metadata": {},
   "outputs": [],
   "source": [
    "get_context_dict(key_value2)"
   ]
  },
  {
   "cell_type": "code",
   "execution_count": null,
   "metadata": {},
   "outputs": [],
   "source": [
    "query = \"employee_name.str.lower().str.contains('ujjawal roy')\""
   ]
  },
  {
   "cell_type": "code",
   "execution_count": null,
   "metadata": {},
   "outputs": [],
   "source": [
    "df.query(query)"
   ]
  },
  {
   "cell_type": "code",
   "execution_count": null,
   "metadata": {},
   "outputs": [],
   "source": []
  }
 ],
 "metadata": {
  "kernelspec": {
   "display_name": "assessment_evaluator_venv",
   "language": "python",
   "name": "python3"
  },
  "language_info": {
   "codemirror_mode": {
    "name": "ipython",
    "version": 3
   },
   "file_extension": ".py",
   "mimetype": "text/x-python",
   "name": "python",
   "nbconvert_exporter": "python",
   "pygments_lexer": "ipython3",
   "version": "3.10.13"
  }
 },
 "nbformat": 4,
 "nbformat_minor": 2
}
